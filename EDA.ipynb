{
 "cells": [
  {
   "cell_type": "code",
   "execution_count": 67,
   "id": "273aaa64-b9ae-40ad-9963-7702440c3ba8",
   "metadata": {},
   "outputs": [],
   "source": [
    "import pandas as pd\n",
    "import nltk\n",
    "import seaborn as sns\n",
    "import numpy as np\n",
    "import matplotlib.pyplot as plt\n",
    "\n",
    "from sklearn.feature_extraction.text import CountVectorizer\n",
    "from sklearn.feature_extraction.text import TfidfVectorizer\n",
    "from xml.sax.saxutils import unescape"
   ]
  },
  {
   "cell_type": "code",
   "execution_count": 68,
   "id": "44d333e1-ac8e-4f04-91f2-d267c4bc817c",
   "metadata": {},
   "outputs": [],
   "source": [
    "#Get our data collected from Reddit\n",
    "df = pd.read_csv(\"dirty_table.csv\")"
   ]
  },
  {
   "cell_type": "code",
   "execution_count": 69,
   "id": "7caa2a15-08f4-4905-9130-918dd743258f",
   "metadata": {},
   "outputs": [
    {
     "data": {
      "text/html": [
       "<div>\n",
       "<style scoped>\n",
       "    .dataframe tbody tr th:only-of-type {\n",
       "        vertical-align: middle;\n",
       "    }\n",
       "\n",
       "    .dataframe tbody tr th {\n",
       "        vertical-align: top;\n",
       "    }\n",
       "\n",
       "    .dataframe thead th {\n",
       "        text-align: right;\n",
       "    }\n",
       "</style>\n",
       "<table border=\"1\" class=\"dataframe\">\n",
       "  <thead>\n",
       "    <tr style=\"text-align: right;\">\n",
       "      <th></th>\n",
       "      <th>Unnamed: 0</th>\n",
       "      <th>subreddit</th>\n",
       "      <th>body</th>\n",
       "      <th>created_utc</th>\n",
       "    </tr>\n",
       "  </thead>\n",
       "  <tbody>\n",
       "    <tr>\n",
       "      <th>20565</th>\n",
       "      <td>65</td>\n",
       "      <td>vegetarian</td>\n",
       "      <td>I do a lot of sliced green olives, sliced onio...</td>\n",
       "      <td>1627268093</td>\n",
       "    </tr>\n",
       "    <tr>\n",
       "      <th>36372</th>\n",
       "      <td>72</td>\n",
       "      <td>vegetarian</td>\n",
       "      <td>Oh man, you are not the first person I have he...</td>\n",
       "      <td>1622765717</td>\n",
       "    </tr>\n",
       "    <tr>\n",
       "      <th>29511</th>\n",
       "      <td>11</td>\n",
       "      <td>vegetarian</td>\n",
       "      <td>[removed]</td>\n",
       "      <td>1624976511</td>\n",
       "    </tr>\n",
       "    <tr>\n",
       "      <th>29059</th>\n",
       "      <td>59</td>\n",
       "      <td>vegetarian</td>\n",
       "      <td>Also packed with sugar.</td>\n",
       "      <td>1625082552</td>\n",
       "    </tr>\n",
       "    <tr>\n",
       "      <th>39523</th>\n",
       "      <td>23</td>\n",
       "      <td>vegetarian</td>\n",
       "      <td>it’s just naan btw not naan bread \\n\\nsource: ...</td>\n",
       "      <td>1621815034</td>\n",
       "    </tr>\n",
       "    <tr>\n",
       "      <th>23038</th>\n",
       "      <td>38</td>\n",
       "      <td>vegetarian</td>\n",
       "      <td>Hardly, but it's the most egregious case I've ...</td>\n",
       "      <td>1626527401</td>\n",
       "    </tr>\n",
       "    <tr>\n",
       "      <th>4702</th>\n",
       "      <td>2</td>\n",
       "      <td>vegan</td>\n",
       "      <td>Good to know. This is fraudulent advertising.</td>\n",
       "      <td>1627327960</td>\n",
       "    </tr>\n",
       "    <tr>\n",
       "      <th>20830</th>\n",
       "      <td>30</td>\n",
       "      <td>vegetarian</td>\n",
       "      <td>Raised by a vet and can second that. I was alw...</td>\n",
       "      <td>1627197437</td>\n",
       "    </tr>\n",
       "    <tr>\n",
       "      <th>5533</th>\n",
       "      <td>33</td>\n",
       "      <td>vegan</td>\n",
       "      <td>Imagine going into a vegan sub complaining abo...</td>\n",
       "      <td>1627302553</td>\n",
       "    </tr>\n",
       "    <tr>\n",
       "      <th>13729</th>\n",
       "      <td>29</td>\n",
       "      <td>vegan</td>\n",
       "      <td>Lupin Beans. r/savedyouaclick</td>\n",
       "      <td>1626959883</td>\n",
       "    </tr>\n",
       "  </tbody>\n",
       "</table>\n",
       "</div>"
      ],
      "text/plain": [
       "       Unnamed: 0   subreddit  \\\n",
       "20565          65  vegetarian   \n",
       "36372          72  vegetarian   \n",
       "29511          11  vegetarian   \n",
       "29059          59  vegetarian   \n",
       "39523          23  vegetarian   \n",
       "23038          38  vegetarian   \n",
       "4702            2       vegan   \n",
       "20830          30  vegetarian   \n",
       "5533           33       vegan   \n",
       "13729          29       vegan   \n",
       "\n",
       "                                                    body  created_utc  \n",
       "20565  I do a lot of sliced green olives, sliced onio...   1627268093  \n",
       "36372  Oh man, you are not the first person I have he...   1622765717  \n",
       "29511                                          [removed]   1624976511  \n",
       "29059                            Also packed with sugar.   1625082552  \n",
       "39523  it’s just naan btw not naan bread \\n\\nsource: ...   1621815034  \n",
       "23038  Hardly, but it's the most egregious case I've ...   1626527401  \n",
       "4702       Good to know. This is fraudulent advertising.   1627327960  \n",
       "20830  Raised by a vet and can second that. I was alw...   1627197437  \n",
       "5533   Imagine going into a vegan sub complaining abo...   1627302553  \n",
       "13729                      Lupin Beans. r/savedyouaclick   1626959883  "
      ]
     },
     "execution_count": 69,
     "metadata": {},
     "output_type": "execute_result"
    }
   ],
   "source": [
    "df.sample(10)"
   ]
  },
  {
   "cell_type": "code",
   "execution_count": 70,
   "id": "2dd58118-03a0-4f43-b9b5-205d6ee45d76",
   "metadata": {},
   "outputs": [],
   "source": [
    "#we need to delete created_utc and Unnamed"
   ]
  },
  {
   "cell_type": "code",
   "execution_count": 71,
   "id": "feba35ae-d6e3-4f84-9472-0a816ebe8ce7",
   "metadata": {},
   "outputs": [],
   "source": [
    "df.drop(columns=['Unnamed: 0','created_utc'], inplace=True)"
   ]
  },
  {
   "cell_type": "code",
   "execution_count": 72,
   "id": "ea1dc2e6-41eb-4968-af8e-0acd0df3605d",
   "metadata": {},
   "outputs": [
    {
     "data": {
      "text/html": [
       "<div>\n",
       "<style scoped>\n",
       "    .dataframe tbody tr th:only-of-type {\n",
       "        vertical-align: middle;\n",
       "    }\n",
       "\n",
       "    .dataframe tbody tr th {\n",
       "        vertical-align: top;\n",
       "    }\n",
       "\n",
       "    .dataframe thead th {\n",
       "        text-align: right;\n",
       "    }\n",
       "</style>\n",
       "<table border=\"1\" class=\"dataframe\">\n",
       "  <thead>\n",
       "    <tr style=\"text-align: right;\">\n",
       "      <th></th>\n",
       "      <th>subreddit</th>\n",
       "      <th>body</th>\n",
       "    </tr>\n",
       "  </thead>\n",
       "  <tbody>\n",
       "    <tr>\n",
       "      <th>14984</th>\n",
       "      <td>vegan</td>\n",
       "      <td>[removed]</td>\n",
       "    </tr>\n",
       "    <tr>\n",
       "      <th>27134</th>\n",
       "      <td>vegetarian</td>\n",
       "      <td>I agree - just saying what is traditional.</td>\n",
       "    </tr>\n",
       "    <tr>\n",
       "      <th>25863</th>\n",
       "      <td>vegetarian</td>\n",
       "      <td>Is this beard friendly?</td>\n",
       "    </tr>\n",
       "    <tr>\n",
       "      <th>27120</th>\n",
       "      <td>vegetarian</td>\n",
       "      <td>Caesar dressing has fish in it :’(</td>\n",
       "    </tr>\n",
       "    <tr>\n",
       "      <th>29158</th>\n",
       "      <td>vegetarian</td>\n",
       "      <td>I did just buy dry chickpeas. I like chickpeas...</td>\n",
       "    </tr>\n",
       "    <tr>\n",
       "      <th>278</th>\n",
       "      <td>vegan</td>\n",
       "      <td>Watch the life-changing and award winning docu...</td>\n",
       "    </tr>\n",
       "    <tr>\n",
       "      <th>35063</th>\n",
       "      <td>vegetarian</td>\n",
       "      <td>[removed]</td>\n",
       "    </tr>\n",
       "    <tr>\n",
       "      <th>11393</th>\n",
       "      <td>vegan</td>\n",
       "      <td>I implore you, please research this topic. Thi...</td>\n",
       "    </tr>\n",
       "    <tr>\n",
       "      <th>38686</th>\n",
       "      <td>vegetarian</td>\n",
       "      <td>I mean, it might be obvious, but protein powde...</td>\n",
       "    </tr>\n",
       "    <tr>\n",
       "      <th>29013</th>\n",
       "      <td>vegetarian</td>\n",
       "      <td>Smoked or bbq tofu is really good</td>\n",
       "    </tr>\n",
       "  </tbody>\n",
       "</table>\n",
       "</div>"
      ],
      "text/plain": [
       "        subreddit                                               body\n",
       "14984       vegan                                          [removed]\n",
       "27134  vegetarian         I agree - just saying what is traditional.\n",
       "25863  vegetarian                            Is this beard friendly?\n",
       "27120  vegetarian                 Caesar dressing has fish in it :’(\n",
       "29158  vegetarian  I did just buy dry chickpeas. I like chickpeas...\n",
       "278         vegan  Watch the life-changing and award winning docu...\n",
       "35063  vegetarian                                          [removed]\n",
       "11393       vegan  I implore you, please research this topic. Thi...\n",
       "38686  vegetarian  I mean, it might be obvious, but protein powde...\n",
       "29013  vegetarian                  Smoked or bbq tofu is really good"
      ]
     },
     "execution_count": 72,
     "metadata": {},
     "output_type": "execute_result"
    }
   ],
   "source": [
    "df.sample(10)"
   ]
  },
  {
   "cell_type": "code",
   "execution_count": 73,
   "id": "dacfb00e-e48d-4b0e-82c6-7ddd90ca9aee",
   "metadata": {},
   "outputs": [
    {
     "data": {
      "text/plain": [
       "(40000, 2)"
      ]
     },
     "execution_count": 73,
     "metadata": {},
     "output_type": "execute_result"
    }
   ],
   "source": [
    "df.shape"
   ]
  },
  {
   "cell_type": "code",
   "execution_count": 74,
   "id": "be1a2dee-9db1-4144-8b7f-81025a396b08",
   "metadata": {},
   "outputs": [
    {
     "data": {
      "text/html": [
       "<div>\n",
       "<style scoped>\n",
       "    .dataframe tbody tr th:only-of-type {\n",
       "        vertical-align: middle;\n",
       "    }\n",
       "\n",
       "    .dataframe tbody tr th {\n",
       "        vertical-align: top;\n",
       "    }\n",
       "\n",
       "    .dataframe thead th {\n",
       "        text-align: right;\n",
       "    }\n",
       "</style>\n",
       "<table border=\"1\" class=\"dataframe\">\n",
       "  <thead>\n",
       "    <tr style=\"text-align: right;\">\n",
       "      <th></th>\n",
       "      <th>subreddit</th>\n",
       "      <th>body</th>\n",
       "    </tr>\n",
       "  </thead>\n",
       "  <tbody>\n",
       "    <tr>\n",
       "      <th>0</th>\n",
       "      <td>vegan</td>\n",
       "      <td>Haha did I? Thats hilarious. But yes I am a ve...</td>\n",
       "    </tr>\n",
       "    <tr>\n",
       "      <th>1</th>\n",
       "      <td>vegan</td>\n",
       "      <td>Enjoy your early death from heart disease, ass</td>\n",
       "    </tr>\n",
       "    <tr>\n",
       "      <th>2</th>\n",
       "      <td>vegan</td>\n",
       "      <td>Yeah I put the brackets while typing my commen...</td>\n",
       "    </tr>\n",
       "    <tr>\n",
       "      <th>3</th>\n",
       "      <td>vegan</td>\n",
       "      <td>definitely understand your point of view. 150%.</td>\n",
       "    </tr>\n",
       "    <tr>\n",
       "      <th>4</th>\n",
       "      <td>vegan</td>\n",
       "      <td>Watch Dominion. That’ll do it. And any other d...</td>\n",
       "    </tr>\n",
       "    <tr>\n",
       "      <th>...</th>\n",
       "      <td>...</td>\n",
       "      <td>...</td>\n",
       "    </tr>\n",
       "    <tr>\n",
       "      <th>39994</th>\n",
       "      <td>vegetarian</td>\n",
       "      <td>Oh crap, I didn’t know it was so soon! I thoug...</td>\n",
       "    </tr>\n",
       "    <tr>\n",
       "      <th>39995</th>\n",
       "      <td>vegetarian</td>\n",
       "      <td>i get mine from morrisons</td>\n",
       "    </tr>\n",
       "    <tr>\n",
       "      <th>39996</th>\n",
       "      <td>vegetarian</td>\n",
       "      <td>Omg same! I think I had a steak once in my lif...</td>\n",
       "    </tr>\n",
       "    <tr>\n",
       "      <th>39997</th>\n",
       "      <td>vegetarian</td>\n",
       "      <td>I’m super late to the convo, but Oatly went pu...</td>\n",
       "    </tr>\n",
       "    <tr>\n",
       "      <th>39998</th>\n",
       "      <td>vegetarian</td>\n",
       "      <td>I've also been fully vegetarian for 4 years. I...</td>\n",
       "    </tr>\n",
       "  </tbody>\n",
       "</table>\n",
       "<p>36370 rows × 2 columns</p>\n",
       "</div>"
      ],
      "text/plain": [
       "        subreddit                                               body\n",
       "0           vegan  Haha did I? Thats hilarious. But yes I am a ve...\n",
       "1           vegan     Enjoy your early death from heart disease, ass\n",
       "2           vegan  Yeah I put the brackets while typing my commen...\n",
       "3           vegan    definitely understand your point of view. 150%.\n",
       "4           vegan  Watch Dominion. That’ll do it. And any other d...\n",
       "...           ...                                                ...\n",
       "39994  vegetarian  Oh crap, I didn’t know it was so soon! I thoug...\n",
       "39995  vegetarian                          i get mine from morrisons\n",
       "39996  vegetarian  Omg same! I think I had a steak once in my lif...\n",
       "39997  vegetarian  I’m super late to the convo, but Oatly went pu...\n",
       "39998  vegetarian  I've also been fully vegetarian for 4 years. I...\n",
       "\n",
       "[36370 rows x 2 columns]"
      ]
     },
     "execution_count": 74,
     "metadata": {},
     "output_type": "execute_result"
    }
   ],
   "source": [
    "df[df['body'].duplicated() == False]"
   ]
  },
  {
   "cell_type": "code",
   "execution_count": 75,
   "id": "9c3aadb3-0e4d-4152-9d82-3f455dd44220",
   "metadata": {},
   "outputs": [],
   "source": [
    "#drop duplicates\n",
    "df.drop_duplicates(subset='body', inplace=True)"
   ]
  },
  {
   "cell_type": "code",
   "execution_count": 76,
   "id": "6657a6aa-e976-47e3-80ec-f8124061e595",
   "metadata": {},
   "outputs": [
    {
     "data": {
      "text/plain": [
       "(36370, 2)"
      ]
     },
     "execution_count": 76,
     "metadata": {},
     "output_type": "execute_result"
    }
   ],
   "source": [
    "df.shape"
   ]
  },
  {
   "cell_type": "code",
   "execution_count": 77,
   "id": "f2f4bdf1-7b52-4350-a266-9285885c57ab",
   "metadata": {},
   "outputs": [],
   "source": [
    "#so we lost almost 4000 posts"
   ]
  },
  {
   "cell_type": "code",
   "execution_count": 78,
   "id": "4c0f9fd5-fe1e-4026-9fdb-012163479106",
   "metadata": {},
   "outputs": [],
   "source": [
    "# Replace null cells with empty strings\n",
    "df['body'].fillna(value='', inplace=True)"
   ]
  },
  {
   "cell_type": "code",
   "execution_count": 79,
   "id": "80dd36db-6195-42ab-819e-703af530ac7a",
   "metadata": {},
   "outputs": [],
   "source": [
    "from xml.sax.saxutils import unescape\n",
    "df['body'] = df['body'].apply(unescape)"
   ]
  },
  {
   "cell_type": "code",
   "execution_count": 80,
   "id": "13648e69-7f2a-49ad-ab2d-5f9c471ede55",
   "metadata": {},
   "outputs": [
    {
     "data": {
      "text/plain": [
       "(36370, 2)"
      ]
     },
     "execution_count": 80,
     "metadata": {},
     "output_type": "execute_result"
    }
   ],
   "source": [
    "df.shape"
   ]
  },
  {
   "cell_type": "code",
   "execution_count": 81,
   "id": "0c472b91-a679-4625-bcf3-4694ef406b05",
   "metadata": {},
   "outputs": [],
   "source": [
    "cvec = CountVectorizer(stop_words='english')\n",
    "tfidf = TfidfVectorizer(stop_words='english')"
   ]
  },
  {
   "cell_type": "code",
   "execution_count": 82,
   "id": "48c8548a-50ac-4fc9-b61c-f8cc8fd1b5d1",
   "metadata": {},
   "outputs": [
    {
     "data": {
      "image/png": "[encoded data removed]",
      "text/plain": [
       "<Figure size 1584x1152 with 2 Axes>"
      ]
     },
     "metadata": {},
     "output_type": "display_data"
    }
   ],
   "source": [
    "# Explore CountVectorizer token counts r/vegan\n",
    "words_cvec_pf = pd.DataFrame(cvec.fit_transform(df[df.subreddit=='vegan'].body).todense(),\n",
    "                       columns=cvec.get_feature_names())\n",
    "word_cvec_counts_pf = words_cvec_pf.sum(axis=0)\n",
    "\n",
    "# Explore TfidfVectorizer token counts r/vegan\n",
    "words_tfidf_pf = pd.DataFrame(tfidf.fit_transform(df[df.subreddit=='vegan'].body).todense(),\n",
    "                       columns=tfidf.get_feature_names())\n",
    "word_counts_tfidf_pf = words_tfidf_pf.sum(axis=0)\n",
    "\n",
    "# Plot top 20 words\n",
    "plt.figure(figsize=(22,16), facecolor='white')\n",
    "\n",
    "plt.subplot(2,2,1)\n",
    "word_cvec_counts_pf.sort_values().tail(20).plot(kind='barh')\n",
    "plt.title('Top 20 Words in vegan')\n",
    "plt.xlabel('Count')\n",
    "plt.ylabel('Word')\n",
    "plt.savefig('T20_vegan.png')\n",
    "\n",
    "plt.subplot(2,2,2)\n",
    "word_counts_tfidf_pf.sort_values().tail(20).plot(kind='barh')\n",
    "plt.title('Top 20 TFIDF Words in vegan')\n",
    "plt.xlabel('TFIDF')\n",
    "plt.ylabel('Word')\n",
    "plt.savefig('TFID_vegan.png')\n",
    "\n",
    "plt.tight_layout()"
   ]
  },
  {
   "cell_type": "code",
   "execution_count": 83,
   "id": "5626841f-db39-4ae6-a94c-fc5d1f1eca79",
   "metadata": {},
   "outputs": [
    {
     "data": {
      "image/png": "[encoded data removed]",
      "text/plain": [
       "<Figure size 1584x1152 with 2 Axes>"
      ]
     },
     "metadata": {},
     "output_type": "display_data"
    }
   ],
   "source": [
    "# Explore CountVectorizer token counts in vegetarian\n",
    "words_cvec_ra = pd.DataFrame(cvec.fit_transform(df[df.subreddit=='vegetarian'].body).todense(),\n",
    "                       columns=cvec.get_feature_names())\n",
    "word_counts_cvec_ra = words_cvec_ra.sum(axis=0)\n",
    "\n",
    "# Explore TfidfVectorizer token counts in vegetarian\n",
    "words_tfidf_ra = pd.DataFrame(tfidf.fit_transform(df[df.subreddit=='vegetarian'].body).todense(),\n",
    "                       columns=tfidf.get_feature_names())\n",
    "word_counts_tfidf_ra = words_tfidf_ra.sum(axis=0)\n",
    "\n",
    "# Plot top 20 words\n",
    "plt.figure(figsize=(22,16), facecolor='white')\n",
    "\n",
    "plt.subplot(2,2,1)\n",
    "word_counts_cvec_ra.sort_values().tail(20).plot(kind='barh')\n",
    "plt.title('Top 20 Words in vegetarian')\n",
    "plt.xlabel('Count')\n",
    "plt.ylabel('Word')\n",
    "plt.savefig('T20_vegetarian.png')\n",
    "\n",
    "plt.subplot(2,2,2)\n",
    "word_counts_tfidf_ra.sort_values().tail(20).plot(kind='barh')\n",
    "plt.title('Top 20 TFIDF Words in vegetarian')\n",
    "plt.xlabel('TFIDF Value')\n",
    "plt.ylabel('Word')\n",
    "plt.savefig('TFID_vegetarian.png')\n",
    "\n",
    "plt.tight_layout()"
   ]
  },
  {
   "cell_type": "code",
   "execution_count": 84,
   "id": "3e9dd2fd-09f7-4df2-838f-75ebe826d796",
   "metadata": {},
   "outputs": [],
   "source": [
    "##lastly we make vegan == 1 vegetarian == 0\n",
    "df['subreddit'] = df['subreddit'].map({'vegan': 1, 'vegetarian': 0})"
   ]
  },
  {
   "cell_type": "code",
   "execution_count": 86,
   "id": "9f639dc4-40dd-471a-81b8-37dd0fe090ee",
   "metadata": {},
   "outputs": [
    {
     "data": {
      "text/html": [
       "<div>\n",
       "<style scoped>\n",
       "    .dataframe tbody tr th:only-of-type {\n",
       "        vertical-align: middle;\n",
       "    }\n",
       "\n",
       "    .dataframe tbody tr th {\n",
       "        vertical-align: top;\n",
       "    }\n",
       "\n",
       "    .dataframe thead th {\n",
       "        text-align: right;\n",
       "    }\n",
       "</style>\n",
       "<table border=\"1\" class=\"dataframe\">\n",
       "  <thead>\n",
       "    <tr style=\"text-align: right;\">\n",
       "      <th></th>\n",
       "      <th>subreddit</th>\n",
       "      <th>body</th>\n",
       "    </tr>\n",
       "  </thead>\n",
       "  <tbody>\n",
       "    <tr>\n",
       "      <th>31329</th>\n",
       "      <td>0</td>\n",
       "      <td>YUM</td>\n",
       "    </tr>\n",
       "    <tr>\n",
       "      <th>11738</th>\n",
       "      <td>1</td>\n",
       "      <td>Very occasionally dates or vego chocolate.</td>\n",
       "    </tr>\n",
       "    <tr>\n",
       "      <th>14391</th>\n",
       "      <td>1</td>\n",
       "      <td>Chicken.\\n\\nChicken does not count as meat doe...</td>\n",
       "    </tr>\n",
       "    <tr>\n",
       "      <th>22154</th>\n",
       "      <td>0</td>\n",
       "      <td>Oh that's weird! When did you visit? Because I...</td>\n",
       "    </tr>\n",
       "    <tr>\n",
       "      <th>2845</th>\n",
       "      <td>1</td>\n",
       "      <td>I find it makes tofu extremely crispy! I love ...</td>\n",
       "    </tr>\n",
       "    <tr>\n",
       "      <th>20532</th>\n",
       "      <td>0</td>\n",
       "      <td>Veggie as in vegetarian right? I still don't u...</td>\n",
       "    </tr>\n",
       "    <tr>\n",
       "      <th>28293</th>\n",
       "      <td>0</td>\n",
       "      <td>maybe try some ground up seaweed sheets, it ca...</td>\n",
       "    </tr>\n",
       "    <tr>\n",
       "      <th>10982</th>\n",
       "      <td>1</td>\n",
       "      <td>Where’s my oat milk gang at?</td>\n",
       "    </tr>\n",
       "    <tr>\n",
       "      <th>39193</th>\n",
       "      <td>0</td>\n",
       "      <td>Great job! This is my favorite meal and comfor...</td>\n",
       "    </tr>\n",
       "    <tr>\n",
       "      <th>26676</th>\n",
       "      <td>0</td>\n",
       "      <td>I used to hate cream soda as a kid, but for so...</td>\n",
       "    </tr>\n",
       "  </tbody>\n",
       "</table>\n",
       "</div>"
      ],
      "text/plain": [
       "       subreddit                                               body\n",
       "31329          0                                                YUM\n",
       "11738          1         Very occasionally dates or vego chocolate.\n",
       "14391          1  Chicken.\\n\\nChicken does not count as meat doe...\n",
       "22154          0  Oh that's weird! When did you visit? Because I...\n",
       "2845           1  I find it makes tofu extremely crispy! I love ...\n",
       "20532          0  Veggie as in vegetarian right? I still don't u...\n",
       "28293          0  maybe try some ground up seaweed sheets, it ca...\n",
       "10982          1                       Where’s my oat milk gang at?\n",
       "39193          0  Great job! This is my favorite meal and comfor...\n",
       "26676          0  I used to hate cream soda as a kid, but for so..."
      ]
     },
     "execution_count": 86,
     "metadata": {},
     "output_type": "execute_result"
    }
   ],
   "source": [
    "df.sample(10)"
   ]
  },
  {
   "cell_type": "code",
   "execution_count": 87,
   "id": "2ec5a00e-209e-4064-b43a-a55322705c58",
   "metadata": {},
   "outputs": [],
   "source": [
    "#save our data\n",
    "df.to_csv('clean_table.csv')"
   ]
  },
  {
   "cell_type": "code",
   "execution_count": null,
   "id": "e034d9c2-b526-4daf-af51-1c71ed671aff",
   "metadata": {},
   "outputs": [],
   "source": []
  }
 ],
 "metadata": {
  "kernelspec": {
   "display_name": "Python 3",
   "language": "python",
   "name": "python3"
  },
  "language_info": {
   "codemirror_mode": {
    "name": "ipython",
    "version": 3
   },
   "file_extension": ".py",
   "mimetype": "text/x-python",
   "name": "python",
   "nbconvert_exporter": "python",
   "pygments_lexer": "ipython3",
   "version": "3.8.8"
  }
 },
 "nbformat": 4,
 "nbformat_minor": 5
}
