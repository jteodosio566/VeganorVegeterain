{
 "cells": [
  {
   "cell_type": "code",
   "execution_count": 1,
   "id": "18072069-86e8-4672-a2db-e600208ba5e5",
   "metadata": {},
   "outputs": [],
   "source": [
    "import requests\n",
    "from bs4 import BeautifulSoup\n",
    "from pprint import pprint\n",
    "import pandas as pd\n",
    "import time"
   ]
  },
  {
   "cell_type": "markdown",
   "id": "50c760ed-042b-4029-a07d-086f8e21ad3a",
   "metadata": {},
   "source": [
    "#### USING THE API TO FARM ON REDDIT"
   ]
  },
  {
   "cell_type": "code",
   "execution_count": 5,
   "id": "4ab053a6-dd96-4a12-abd8-20b1ebe41b6d",
   "metadata": {},
   "outputs": [],
   "source": [
    "url_comms = \"https://api.pushshift.io/reddit/search/comment\""
   ]
  },
  {
   "cell_type": "code",
   "execution_count": 6,
   "id": "633e85aa-9c26-4290-abb9-f53349448c65",
   "metadata": {},
   "outputs": [],
   "source": [
    "params = {\n",
    "    'subreddit' : 'vegan', \n",
    "    'size' : 500\n",
    "}"
   ]
  },
  {
   "cell_type": "code",
   "execution_count": 7,
   "id": "658ed796-f80a-48d4-8ea8-f93930f356be",
   "metadata": {},
   "outputs": [],
   "source": [
    "res_vegan = requests.get(url_comms, params)"
   ]
  },
  {
   "cell_type": "code",
   "execution_count": 8,
   "id": "ac48e26c-dc48-4742-81fb-03d3d181e1fa",
   "metadata": {},
   "outputs": [
    {
     "data": {
      "text/plain": [
       "200"
      ]
     },
     "execution_count": 8,
     "metadata": {},
     "output_type": "execute_result"
    }
   ],
   "source": [
    "res_vegan.status_code"
   ]
  },
  {
   "cell_type": "code",
   "execution_count": 9,
   "id": "735f5272-c758-47c9-a836-3ee22a5a407d",
   "metadata": {},
   "outputs": [],
   "source": [
    "data = res_vegan.json()"
   ]
  },
  {
   "cell_type": "code",
   "execution_count": 10,
   "id": "61119bc4-47f3-4904-a32a-1adc6bc97600",
   "metadata": {},
   "outputs": [],
   "source": [
    "posts_vegan = data['data']"
   ]
  },
  {
   "cell_type": "code",
   "execution_count": 11,
   "id": "bc1e6244-e335-49a8-8243-a980e65e2ae5",
   "metadata": {},
   "outputs": [
    {
     "data": {
      "text/plain": [
       "100"
      ]
     },
     "execution_count": 11,
     "metadata": {},
     "output_type": "execute_result"
    }
   ],
   "source": [
    "len(posts_vegan)"
   ]
  },
  {
   "cell_type": "code",
   "execution_count": 12,
   "id": "915210a1-8f18-456a-a654-4af05cf9bc55",
   "metadata": {},
   "outputs": [],
   "source": [
    "#we can only get 100 post and we need a ton so we need to get the created utc value to use the before parameter to get different posts"
   ]
  },
  {
   "cell_type": "code",
   "execution_count": 13,
   "id": "a243a1aa-5ca3-422f-a92e-4ba3d2a5298d",
   "metadata": {},
   "outputs": [
    {
     "data": {
      "text/plain": [
       "1627486214"
      ]
     },
     "execution_count": 13,
     "metadata": {},
     "output_type": "execute_result"
    }
   ],
   "source": [
    "posts_vegan[0]['created_utc']"
   ]
  },
  {
   "cell_type": "code",
   "execution_count": 14,
   "id": "bc2608e9-a949-4460-b47a-fbdd3f4126e5",
   "metadata": {},
   "outputs": [
    {
     "data": {
      "text/plain": [
       "1627484064"
      ]
     },
     "execution_count": 14,
     "metadata": {},
     "output_type": "execute_result"
    }
   ],
   "source": [
    "posts_vegan[99]['created_utc']"
   ]
  },
  {
   "cell_type": "code",
   "execution_count": 16,
   "id": "633363ef-203d-4aab-bed6-a060aa0526cc",
   "metadata": {},
   "outputs": [],
   "source": [
    "#This function will get us the 20000 most recent posts\n",
    "def farm(subreddit, n):\n",
    "    \n",
    "    df_list = []\n",
    "    current_time = 1627486214 #the first post\n",
    "    \n",
    "    for _ in range(n):\n",
    "        res = requests.get(\n",
    "            url_comms,\n",
    "            params={\n",
    "                \"subreddit\": subreddit,\n",
    "                \"size\": 500,\n",
    "                \"before\": current_time\n",
    "            }\n",
    "        )\n",
    "        time.sleep(3)\n",
    "        df = pd.DataFrame(res.json()['data'])\n",
    "        df = df.loc[:, [\"subreddit\", \"body\", \"created_utc\"]]\n",
    "        df_list.append(df)\n",
    "        current_time = df.created_utc.min()\n",
    "        \n",
    "    return pd.concat(df_list, axis=0)"
   ]
  },
  {
   "cell_type": "code",
   "execution_count": 17,
   "id": "74dcb522-4854-40f6-92bc-40a1a8db4814",
   "metadata": {},
   "outputs": [],
   "source": [
    "df_vegan = farm('vegan', 200)"
   ]
  },
  {
   "cell_type": "code",
   "execution_count": 18,
   "id": "c39cbbc2-8949-455a-895d-6fd69c596836",
   "metadata": {},
   "outputs": [
    {
     "data": {
      "text/plain": [
       "(20000, 3)"
      ]
     },
     "execution_count": 18,
     "metadata": {},
     "output_type": "execute_result"
    }
   ],
   "source": [
    "df_vegan.shape"
   ]
  },
  {
   "cell_type": "code",
   "execution_count": 19,
   "id": "76cbbf8c-dea9-4fd9-8f1f-e05fbfdbd9b5",
   "metadata": {},
   "outputs": [],
   "source": [
    "#we have 20000 posts"
   ]
  },
  {
   "cell_type": "code",
   "execution_count": 20,
   "id": "575e31a2-b14f-4e66-ac48-ebcd8ae61a7c",
   "metadata": {},
   "outputs": [
    {
     "data": {
      "text/html": [
       "<div>\n",
       "<style scoped>\n",
       "    .dataframe tbody tr th:only-of-type {\n",
       "        vertical-align: middle;\n",
       "    }\n",
       "\n",
       "    .dataframe tbody tr th {\n",
       "        vertical-align: top;\n",
       "    }\n",
       "\n",
       "    .dataframe thead th {\n",
       "        text-align: right;\n",
       "    }\n",
       "</style>\n",
       "<table border=\"1\" class=\"dataframe\">\n",
       "  <thead>\n",
       "    <tr style=\"text-align: right;\">\n",
       "      <th></th>\n",
       "      <th>subreddit</th>\n",
       "      <th>body</th>\n",
       "      <th>created_utc</th>\n",
       "    </tr>\n",
       "  </thead>\n",
       "  <tbody>\n",
       "    <tr>\n",
       "      <th>13</th>\n",
       "      <td>vegan</td>\n",
       "      <td>Dunno how much clearer i can make it lmao it w...</td>\n",
       "      <td>1627149049</td>\n",
       "    </tr>\n",
       "    <tr>\n",
       "      <th>51</th>\n",
       "      <td>vegan</td>\n",
       "      <td>[deleted]</td>\n",
       "      <td>1627294174</td>\n",
       "    </tr>\n",
       "    <tr>\n",
       "      <th>87</th>\n",
       "      <td>vegan</td>\n",
       "      <td>Check out [Vegan Bootcamp](https://vbcamp.org/...</td>\n",
       "      <td>1627260433</td>\n",
       "    </tr>\n",
       "    <tr>\n",
       "      <th>96</th>\n",
       "      <td>vegan</td>\n",
       "      <td>Hard to face public pressure like he's certain...</td>\n",
       "      <td>1626913814</td>\n",
       "    </tr>\n",
       "    <tr>\n",
       "      <th>37</th>\n",
       "      <td>vegan</td>\n",
       "      <td>This is what I can interpret. Animals are forc...</td>\n",
       "      <td>1627366883</td>\n",
       "    </tr>\n",
       "    <tr>\n",
       "      <th>59</th>\n",
       "      <td>vegan</td>\n",
       "      <td>[removed]</td>\n",
       "      <td>1626928221</td>\n",
       "    </tr>\n",
       "    <tr>\n",
       "      <th>16</th>\n",
       "      <td>vegan</td>\n",
       "      <td>They're delicious, albeit bland and need seaso...</td>\n",
       "      <td>1627159229</td>\n",
       "    </tr>\n",
       "    <tr>\n",
       "      <th>55</th>\n",
       "      <td>vegan</td>\n",
       "      <td>That's an HR situation, holy hell what a sick ...</td>\n",
       "      <td>1627192925</td>\n",
       "    </tr>\n",
       "    <tr>\n",
       "      <th>76</th>\n",
       "      <td>vegan</td>\n",
       "      <td>There's also bioavailability. Animals can dige...</td>\n",
       "      <td>1627423742</td>\n",
       "    </tr>\n",
       "    <tr>\n",
       "      <th>77</th>\n",
       "      <td>vegan</td>\n",
       "      <td>I made the dough July 7th and kept it in the f...</td>\n",
       "      <td>1627345875</td>\n",
       "    </tr>\n",
       "  </tbody>\n",
       "</table>\n",
       "</div>"
      ],
      "text/plain": [
       "   subreddit                                               body  created_utc\n",
       "13     vegan  Dunno how much clearer i can make it lmao it w...   1627149049\n",
       "51     vegan                                          [deleted]   1627294174\n",
       "87     vegan  Check out [Vegan Bootcamp](https://vbcamp.org/...   1627260433\n",
       "96     vegan  Hard to face public pressure like he's certain...   1626913814\n",
       "37     vegan  This is what I can interpret. Animals are forc...   1627366883\n",
       "59     vegan                                          [removed]   1626928221\n",
       "16     vegan  They're delicious, albeit bland and need seaso...   1627159229\n",
       "55     vegan  That's an HR situation, holy hell what a sick ...   1627192925\n",
       "76     vegan  There's also bioavailability. Animals can dige...   1627423742\n",
       "77     vegan  I made the dough July 7th and kept it in the f...   1627345875"
      ]
     },
     "execution_count": 20,
     "metadata": {},
     "output_type": "execute_result"
    }
   ],
   "source": [
    "df_vegan.sample(10)"
   ]
  },
  {
   "cell_type": "code",
   "execution_count": 22,
   "id": "08fafd22-1b63-43d3-b047-ae4d453d246b",
   "metadata": {},
   "outputs": [],
   "source": [
    "params_1 = {\n",
    "    'subreddit' : 'vegetarian', \n",
    "    'size' : 500\n",
    "}\n",
    "res_vegetarian = requests.get(url_comms, params_1)"
   ]
  },
  {
   "cell_type": "code",
   "execution_count": 23,
   "id": "c3094081-eea5-46bf-a1ab-b4144efbd4e7",
   "metadata": {},
   "outputs": [
    {
     "data": {
      "text/plain": [
       "200"
      ]
     },
     "execution_count": 23,
     "metadata": {},
     "output_type": "execute_result"
    }
   ],
   "source": [
    "res_vegetarian.status_code"
   ]
  },
  {
   "cell_type": "code",
   "execution_count": 24,
   "id": "1f3aa57a-1947-419c-8ed5-e473438d629f",
   "metadata": {},
   "outputs": [],
   "source": [
    "data_1 = res_vegetarian.json()"
   ]
  },
  {
   "cell_type": "code",
   "execution_count": 25,
   "id": "77651d38-0482-405f-ae56-aa1bab607769",
   "metadata": {},
   "outputs": [
    {
     "data": {
      "text/plain": [
       "100"
      ]
     },
     "execution_count": 25,
     "metadata": {},
     "output_type": "execute_result"
    }
   ],
   "source": [
    "posts_vegetarian = data_1['data']\n",
    "len(posts_vegetarian)"
   ]
  },
  {
   "cell_type": "code",
   "execution_count": 27,
   "id": "0f700855-d40b-4db3-abdd-f2e98577a5d2",
   "metadata": {},
   "outputs": [
    {
     "data": {
      "text/plain": [
       "1627487081"
      ]
     },
     "execution_count": 27,
     "metadata": {},
     "output_type": "execute_result"
    }
   ],
   "source": [
    "posts_vegetarian[0]['created_utc']"
   ]
  },
  {
   "cell_type": "code",
   "execution_count": 28,
   "id": "5fa984ab-4949-470c-9960-dbeb1df974ff",
   "metadata": {},
   "outputs": [],
   "source": [
    "#This function will get us the 20000 most recent posts\n",
    "def farm_vegetarian(subreddit, n):\n",
    "    \n",
    "    df_list = []\n",
    "    current_time = 1627487081 #the first post\n",
    "    \n",
    "    for _ in range(n):\n",
    "        res = requests.get(\n",
    "            url_comms,\n",
    "            params={\n",
    "                \"subreddit\": subreddit,\n",
    "                \"size\": 500,\n",
    "                \"before\": current_time\n",
    "            }\n",
    "        )\n",
    "        time.sleep(3)\n",
    "        df = pd.DataFrame(res.json()['data'])\n",
    "        df = df.loc[:, [\"subreddit\", \"body\", \"created_utc\"]]\n",
    "        df_list.append(df)\n",
    "        current_time = df.created_utc.min()\n",
    "        \n",
    "    return pd.concat(df_list, axis=0)"
   ]
  },
  {
   "cell_type": "code",
   "execution_count": 29,
   "id": "06be19d1-3205-4176-a45e-9757f688a830",
   "metadata": {},
   "outputs": [],
   "source": [
    "df_vegetarian = farm_vegetarian('vegetarian', 200)"
   ]
  },
  {
   "cell_type": "code",
   "execution_count": 34,
   "id": "55de7de1-11a7-4a69-b287-cd022a9bc3d0",
   "metadata": {},
   "outputs": [
    {
     "data": {
      "text/plain": [
       "(20000, 4)"
      ]
     },
     "execution_count": 34,
     "metadata": {},
     "output_type": "execute_result"
    }
   ],
   "source": [
    "df_vegetarian.shape"
   ]
  },
  {
   "cell_type": "code",
   "execution_count": 30,
   "id": "54f2d3d4-f90b-48e4-99d1-6a4045234130",
   "metadata": {},
   "outputs": [
    {
     "data": {
      "text/html": [
       "<div>\n",
       "<style scoped>\n",
       "    .dataframe tbody tr th:only-of-type {\n",
       "        vertical-align: middle;\n",
       "    }\n",
       "\n",
       "    .dataframe tbody tr th {\n",
       "        vertical-align: top;\n",
       "    }\n",
       "\n",
       "    .dataframe thead th {\n",
       "        text-align: right;\n",
       "    }\n",
       "</style>\n",
       "<table border=\"1\" class=\"dataframe\">\n",
       "  <thead>\n",
       "    <tr style=\"text-align: right;\">\n",
       "      <th></th>\n",
       "      <th>subreddit</th>\n",
       "      <th>body</th>\n",
       "      <th>created_utc</th>\n",
       "    </tr>\n",
       "  </thead>\n",
       "  <tbody>\n",
       "    <tr>\n",
       "      <th>28</th>\n",
       "      <td>vegetarian</td>\n",
       "      <td>Hey, I hate tomatoes as well (unless it's part...</td>\n",
       "      <td>1626146196</td>\n",
       "    </tr>\n",
       "    <tr>\n",
       "      <th>54</th>\n",
       "      <td>vegetarian</td>\n",
       "      <td>Japanese curry washed down with cream soda!</td>\n",
       "      <td>1625682568</td>\n",
       "    </tr>\n",
       "    <tr>\n",
       "      <th>0</th>\n",
       "      <td>vegetarian</td>\n",
       "      <td>I use the CodeCheck app in the UK - Know it's ...</td>\n",
       "      <td>1624909111</td>\n",
       "    </tr>\n",
       "    <tr>\n",
       "      <th>43</th>\n",
       "      <td>vegetarian</td>\n",
       "      <td>Any tips to make the transition easier? I’ve b...</td>\n",
       "      <td>1625426441</td>\n",
       "    </tr>\n",
       "    <tr>\n",
       "      <th>91</th>\n",
       "      <td>vegetarian</td>\n",
       "      <td>Alright, thank you. I usually do around 30 min...</td>\n",
       "      <td>1623961491</td>\n",
       "    </tr>\n",
       "    <tr>\n",
       "      <th>18</th>\n",
       "      <td>vegetarian</td>\n",
       "      <td>Hi, this is a [really common question](https:/...</td>\n",
       "      <td>1621887953</td>\n",
       "    </tr>\n",
       "    <tr>\n",
       "      <th>25</th>\n",
       "      <td>vegetarian</td>\n",
       "      <td>I was almost anemic before going vegetarian. M...</td>\n",
       "      <td>1623762774</td>\n",
       "    </tr>\n",
       "    <tr>\n",
       "      <th>7</th>\n",
       "      <td>vegetarian</td>\n",
       "      <td>First picture made me think “is this a troll? ...</td>\n",
       "      <td>1625592208</td>\n",
       "    </tr>\n",
       "    <tr>\n",
       "      <th>31</th>\n",
       "      <td>vegetarian</td>\n",
       "      <td>[removed]</td>\n",
       "      <td>1624750706</td>\n",
       "    </tr>\n",
       "    <tr>\n",
       "      <th>33</th>\n",
       "      <td>vegetarian</td>\n",
       "      <td>[deleted]</td>\n",
       "      <td>1625747148</td>\n",
       "    </tr>\n",
       "  </tbody>\n",
       "</table>\n",
       "</div>"
      ],
      "text/plain": [
       "     subreddit                                               body  created_utc\n",
       "28  vegetarian  Hey, I hate tomatoes as well (unless it's part...   1626146196\n",
       "54  vegetarian        Japanese curry washed down with cream soda!   1625682568\n",
       "0   vegetarian  I use the CodeCheck app in the UK - Know it's ...   1624909111\n",
       "43  vegetarian  Any tips to make the transition easier? I’ve b...   1625426441\n",
       "91  vegetarian  Alright, thank you. I usually do around 30 min...   1623961491\n",
       "18  vegetarian  Hi, this is a [really common question](https:/...   1621887953\n",
       "25  vegetarian  I was almost anemic before going vegetarian. M...   1623762774\n",
       "7   vegetarian  First picture made me think “is this a troll? ...   1625592208\n",
       "31  vegetarian                                          [removed]   1624750706\n",
       "33  vegetarian                                          [deleted]   1625747148"
      ]
     },
     "execution_count": 30,
     "metadata": {},
     "output_type": "execute_result"
    }
   ],
   "source": [
    "df_vegetarian.sample(10)"
   ]
  },
  {
   "cell_type": "code",
   "execution_count": 31,
   "id": "e55b8e8f-b83f-4be0-aa0f-f86471211a14",
   "metadata": {},
   "outputs": [],
   "source": [
    "df_complete = pd.concat([df_vegan,df_vegetarian])"
   ]
  },
  {
   "cell_type": "code",
   "execution_count": 32,
   "id": "589c8b10-fd5c-4317-8bca-b578293b9cad",
   "metadata": {},
   "outputs": [
    {
     "data": {
      "text/html": [
       "<div>\n",
       "<style scoped>\n",
       "    .dataframe tbody tr th:only-of-type {\n",
       "        vertical-align: middle;\n",
       "    }\n",
       "\n",
       "    .dataframe tbody tr th {\n",
       "        vertical-align: top;\n",
       "    }\n",
       "\n",
       "    .dataframe thead th {\n",
       "        text-align: right;\n",
       "    }\n",
       "</style>\n",
       "<table border=\"1\" class=\"dataframe\">\n",
       "  <thead>\n",
       "    <tr style=\"text-align: right;\">\n",
       "      <th></th>\n",
       "      <th>subreddit</th>\n",
       "      <th>body</th>\n",
       "      <th>created_utc</th>\n",
       "    </tr>\n",
       "  </thead>\n",
       "  <tbody>\n",
       "    <tr>\n",
       "      <th>5</th>\n",
       "      <td>vegan</td>\n",
       "      <td>You're welcome!</td>\n",
       "      <td>1627167920</td>\n",
       "    </tr>\n",
       "    <tr>\n",
       "      <th>38</th>\n",
       "      <td>vegan</td>\n",
       "      <td>Nice to see a non-plastic alternative to leather</td>\n",
       "      <td>1627415667</td>\n",
       "    </tr>\n",
       "    <tr>\n",
       "      <th>86</th>\n",
       "      <td>vegetarian</td>\n",
       "      <td>Your first sentence made my night. I used to b...</td>\n",
       "      <td>1622595251</td>\n",
       "    </tr>\n",
       "    <tr>\n",
       "      <th>13</th>\n",
       "      <td>vegetarian</td>\n",
       "      <td>I make these rly nice sandwiches that I love w...</td>\n",
       "      <td>1626308603</td>\n",
       "    </tr>\n",
       "    <tr>\n",
       "      <th>46</th>\n",
       "      <td>vegan</td>\n",
       "      <td>The Ghostbusters music works for me</td>\n",
       "      <td>1627326209</td>\n",
       "    </tr>\n",
       "    <tr>\n",
       "      <th>93</th>\n",
       "      <td>vegetarian</td>\n",
       "      <td>I really don’t like the taste lol. I much pref...</td>\n",
       "      <td>1625618357</td>\n",
       "    </tr>\n",
       "    <tr>\n",
       "      <th>85</th>\n",
       "      <td>vegetarian</td>\n",
       "      <td>I think I'm in a similar boat, after living wi...</td>\n",
       "      <td>1626211077</td>\n",
       "    </tr>\n",
       "    <tr>\n",
       "      <th>91</th>\n",
       "      <td>vegan</td>\n",
       "      <td>Talking about dogs the same way people talk ab...</td>\n",
       "      <td>1626749994</td>\n",
       "    </tr>\n",
       "    <tr>\n",
       "      <th>69</th>\n",
       "      <td>vegan</td>\n",
       "      <td>I don't like to cook much, so I often eat a ve...</td>\n",
       "      <td>1627309972</td>\n",
       "    </tr>\n",
       "    <tr>\n",
       "      <th>50</th>\n",
       "      <td>vegetarian</td>\n",
       "      <td>Oooh, I had not thought of that mod and it is ...</td>\n",
       "      <td>1624932174</td>\n",
       "    </tr>\n",
       "  </tbody>\n",
       "</table>\n",
       "</div>"
      ],
      "text/plain": [
       "     subreddit                                               body  created_utc\n",
       "5        vegan                                    You're welcome!   1627167920\n",
       "38       vegan   Nice to see a non-plastic alternative to leather   1627415667\n",
       "86  vegetarian  Your first sentence made my night. I used to b...   1622595251\n",
       "13  vegetarian  I make these rly nice sandwiches that I love w...   1626308603\n",
       "46       vegan                The Ghostbusters music works for me   1627326209\n",
       "93  vegetarian  I really don’t like the taste lol. I much pref...   1625618357\n",
       "85  vegetarian  I think I'm in a similar boat, after living wi...   1626211077\n",
       "91       vegan  Talking about dogs the same way people talk ab...   1626749994\n",
       "69       vegan  I don't like to cook much, so I often eat a ve...   1627309972\n",
       "50  vegetarian  Oooh, I had not thought of that mod and it is ...   1624932174"
      ]
     },
     "execution_count": 32,
     "metadata": {},
     "output_type": "execute_result"
    }
   ],
   "source": [
    "df_complete.sample(10)"
   ]
  },
  {
   "cell_type": "code",
   "execution_count": 33,
   "id": "81883008-c477-4b9d-9e52-d35ec6f4c3a0",
   "metadata": {},
   "outputs": [],
   "source": [
    "#we send it to csv for EDA!"
   ]
  },
  {
   "cell_type": "code",
   "execution_count": 34,
   "id": "54a994e4-49c1-49d8-9acb-1cc60d5c5816",
   "metadata": {},
   "outputs": [],
   "source": [
    "df_complete.to_csv('dirty_table.csv')"
   ]
  },
  {
   "cell_type": "code",
   "execution_count": null,
   "id": "b74c8000-3e50-44b8-af0b-5937f9081917",
   "metadata": {},
   "outputs": [],
   "source": []
  }
 ],
 "metadata": {
  "kernelspec": {
   "display_name": "Python 3",
   "language": "python",
   "name": "python3"
  },
  "language_info": {
   "codemirror_mode": {
    "name": "ipython",
    "version": 3
   },
   "file_extension": ".py",
   "mimetype": "text/x-python",
   "name": "python",
   "nbconvert_exporter": "python",
   "pygments_lexer": "ipython3",
   "version": "3.8.8"
  }
 },
 "nbformat": 4,
 "nbformat_minor": 5
}
